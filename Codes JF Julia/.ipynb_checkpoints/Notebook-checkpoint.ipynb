{
 "cells": [
  {
   "cell_type": "markdown",
   "metadata": {},
   "source": [
    "Import packages and set up the environment."
   ]
  },
  {
   "cell_type": "code",
   "execution_count": 180,
   "metadata": {},
   "outputs": [],
   "source": [
    "using Pkg, LinearAlgebra, PyPlot, SparseArrays, Parameters\n",
    "\n",
    "# Set the plot fonts\n",
    "rc(\"text\", usetex = true)\n",
    "rc(\"font\", family = \"serif\", serif = \"palatino\")\n",
    "\n",
    "# Set the Stanford color palette\n",
    "stanford=[140 21 21; 0 0 0; 223 202 151; 178 176 167; 255 122 0]./256;\n",
    "\n",
    "# Import user-defined functions\n",
    "include(joinpath(pwd(),\"Aiyagari.jl\"));"
   ]
  },
  {
   "cell_type": "markdown",
   "metadata": {},
   "source": [
    "Define the parameters."
   ]
  },
  {
   "cell_type": "code",
   "execution_count": 181,
   "metadata": {},
   "outputs": [],
   "source": [
    "# Define a sparse matrix type\n",
    "const SMatrix{Tv, Ti} = SparseMatrixCSC{Tv, Ti};\n",
    "\n",
    "# Define the economic parameters of the model\n",
    "parameters = @with_kw (γ = 2.0,\n",
    "                       α = 0.3,\n",
    "                       δ = 0.1,\n",
    "                       ρ = 0.05,\n",
    "                       θ = 0.3,\n",
    "                       σ = 0.1);\n",
    "\n",
    "# Define the settings of the model\n",
    "settings = @with_kw (amin = 0.0,\n",
    "                     amax = 30.0,\n",
    "                     an = 100,\n",
    "                     zmin = 0.5,\n",
    "                     zmax = 1.5,\n",
    "                     zn = 40,\n",
    "                     Δ = 1e3,\n",
    "                     K = 2.75,\n",
    "                     Viteration = 100,\n",
    "                     Kiteration = 150,\n",
    "                     Vtolerance = 1e-6,\n",
    "                     Ktolerance = 1e-5,\n",
    "                     relax = 0.99);"
   ]
  },
  {
   "cell_type": "markdown",
   "metadata": {},
   "source": [
    "Solve the Aiyagari model."
   ]
  },
  {
   "cell_type": "code",
   "execution_count": 182,
   "metadata": {},
   "outputs": [
    {
     "name": "stdout",
     "output_type": "stream",
     "text": [
      "  2.648728 seconds (3.12 M allocations: 654.910 MiB, 1.97% gc time)\n"
     ]
    }
   ],
   "source": [
    "@time Aiyagari(parameters,settings);"
   ]
  },
  {
   "cell_type": "code",
   "execution_count": null,
   "metadata": {},
   "outputs": [],
   "source": []
  }
 ],
 "metadata": {
  "kernelspec": {
   "display_name": "Julia 1.3.1",
   "language": "julia",
   "name": "julia-1.3"
  },
  "language_info": {
   "file_extension": ".jl",
   "mimetype": "application/julia",
   "name": "julia",
   "version": "1.3.1"
  }
 },
 "nbformat": 4,
 "nbformat_minor": 2
}
