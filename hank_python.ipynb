{
 "cells": [
  {
   "cell_type": "markdown",
   "metadata": {},
   "source": [
    "# Heterogeneous agent model in continuous time"
   ]
  },
  {
   "cell_type": "markdown",
   "metadata": {},
   "source": [
    "This notebook replicates Achdou et al. (2020)."
   ]
  },
  {
   "cell_type": "markdown",
   "metadata": {},
   "source": [
    "Open questions: \n",
    "- use sparse matrices\n",
    "- use eigenvalues to compute g\n",
    "    - take the one that corresponds to eigenvalue equal to 0\n",
    "- Interpretation of transition matrix A compared to discrete time\n",
    "    - not really transition, more an intensity matrix\n",
    "- Transition dynamics"
   ]
  },
  {
   "cell_type": "markdown",
   "metadata": {},
   "source": [
    "## Setup"
   ]
  },
  {
   "cell_type": "code",
   "execution_count": 1,
   "metadata": {},
   "outputs": [],
   "source": [
    "import scipy\n",
    "import numpy as np\n",
    "import matplotlib.pyplot as plt\n",
    "import scipy.optimize as opt\n",
    "import time"
   ]
  },
  {
   "cell_type": "markdown",
   "metadata": {},
   "source": [
    "## HJB"
   ]
  },
  {
   "cell_type": "markdown",
   "metadata": {},
   "source": [
    "### Explicit method"
   ]
  },
  {
   "cell_type": "markdown",
   "metadata": {},
   "source": [
    "The intuition for the algorithm is simple. You want to solve for $v$ using the HJB equation in which we already took care of the optimization using the FOC. This is a fixed point involving $v$ and its derivative, which you approximate using finite differences. You can find the fixed point by iterating on a guess for $v$. \n",
    "\n",
    "You only need to be careful about 2 things: \n",
    "- when you approximate $v'$ you evaluate the derivative in the right direction (backward $v_{B}'$ versus forward $v_{F}'$)\n",
    "- you take care of the borrowing constraint by making $v'$ take the right value if agents want to borrow at the constraint."
   ]
  },
  {
   "cell_type": "markdown",
   "metadata": {},
   "source": [
    "Given a guess for $v$, the algorithm works as follows. \n",
    "\n",
    "$\\textbf{Step 1}$\n",
    "\n",
    "Compute $v_{ij}'$ using \n",
    "$$\n",
    "v_{ijF}' \\equiv \\frac{v_{i+1j} - v_{ij}}{\\Delta a} \\quad \\text{and} \\quad v_{ijB}' \\equiv \\frac{v_{ij} - v_{i-1j}}{\\Delta a}\n",
    "$$\n",
    "and \n",
    "$$\n",
    "v_{ij}' = \\mathbb{1}\\{ s_{ijF} > 0\\} v_{ijF}' + \\mathbb{1}\\{ s_{ijB} < 0\\} v_{ijB}' + \\mathbb{1}\\{ s_{ijF} \\leq 0 \\leq s_{ijB}\\}u'(z_j + ra_i) \n",
    "$$\n",
    "\n",
    "$\\textbf{Step 2}$\n",
    "\n",
    "Compute C using \n",
    "$$\n",
    "c_{ij} = (u')^{-1}[v_{ij}']\n",
    "$$\n",
    "\n",
    "$\\textbf{Step 3}$\n",
    "\n",
    "Compute new $v$ from\n",
    "$$\n",
    "v_{ij}^{n+1} = v_{ij}^n + \\Delta \\left( u(c_{ij}^n) + (v_{ij}^n)'(z_j + ra_i - c_{ij}^n) + \\lambda_j (v_{i-j}^n - v_{ij}^n) - \\rho v_{ij}^n \\right) \n",
    "$$\n",
    "\n",
    "and compute distance between $v_{ij}^{n+1}$ and $v_{ij}^n$."
   ]
  },
  {
   "cell_type": "markdown",
   "metadata": {},
   "source": [
    "First define a bunch of parameters."
   ]
  },
  {
   "cell_type": "code",
   "execution_count": 326,
   "metadata": {},
   "outputs": [],
   "source": [
    "# interest rate - will be pinned down in GE\n",
    "r = 0.035\n",
    "\n",
    "# Economic parameters\n",
    "s = 1.2                 # CRRA utility with parameter s\n",
    "rho = 0.05              # discount rate\n",
    "z1 = .1                 # income state 1   \n",
    "z2 = .2                 # income state 2\n",
    "z = [z1,z2]             # income sttes\n",
    "la1 = 1.5               # intensity lambda_1\n",
    "la2 = 1                 # intensity lambda_2\n",
    "la = [la1,la2];         # intensity of Poisson process\n",
    "\n",
    "# Computational parameters\n",
    "I=1000                          # Size of asset grid\n",
    "amin = -0.02                    # borrowing constraint\n",
    "amax = 3                        # upper bound of grid\n",
    "a = np.linspace(amin,amax,I)    # grid\n",
    "da = (amax-amin)/(I-1)          # average distance on the grid\n",
    "aa = np.tile(a,(2,1)).T\n",
    "zz = np.ones((I,2))*z\n",
    "maxit= 40000                    # max number of iterations\n",
    "crit = 1e-6                     # tolerance for fixed point\n",
    "\n",
    "# Initialize arrays\n",
    "dVf = np.zeros((I,2))           # Forward derivative of value function\n",
    "dVb = np.zeros((I,2))           # Backward derivative of value function\n",
    "c = np.zeros((I,2))             # Consumption function"
   ]
  },
  {
   "cell_type": "markdown",
   "metadata": {},
   "source": [
    "Then define one step of the iteration"
   ]
  },
  {
   "cell_type": "code",
   "execution_count": 327,
   "metadata": {},
   "outputs": [],
   "source": [
    "def HJB_1step(v,r):\n",
    "\n",
    "    # current guess\n",
    "    V = v.copy()\n",
    "\n",
    "    ## STEP 1\n",
    "    \n",
    "    # forward difference\n",
    "    dVf[0:I-1,:] = (V[1:I,:]-V[0:I-1,:])/da\n",
    "    dVf[I-1,:] = 1                              # will never be used anyway\n",
    "\n",
    "    # backward difference\n",
    "    dVb[1:I,:] = (V[1:I,:]-V[0:I-1,:])/da\n",
    "    dVb[0,:] = (z + np.ones(2)*r*amin)**(-s)         # state constraint boundary condition\n",
    "\n",
    "    #indicator whether value function is concave (problems arise if this is not the case)\n",
    "    I_concave = dVb > dVf\n",
    "\n",
    "    # consumption and savings with forward difference\n",
    "    cf = dVf**(-1/s)\n",
    "    muf = zz + r*aa - cf\n",
    "\n",
    "    # consumption and savings with backward difference\n",
    "    cb = dVb**(-1/s)\n",
    "    mub = zz + r*aa - cb\n",
    "\n",
    "    # consumption and derivative of value function at steady state (no savings)\n",
    "    c0 = zz + r*aa;\n",
    "    dV0 = c0**(-s)\n",
    "\n",
    "    # dV_upwind makes a choice of forward or backward differences based on the sign of the drift    \n",
    "    If = muf > 0                  # positive drift --> forward difference\n",
    "    Ib = mub < 0                  # negative drift --> backward difference\n",
    "    I0 = (1-If-Ib)                # at steady state (no savings)\n",
    "\n",
    "    # make sure backward difference is used at amax\n",
    "    Ib[I-1,:] = 1 \n",
    "    If[I-1,:] = 0\n",
    "\n",
    "    # Compute dv\n",
    "    dV_Upwind = dVf*If + dVb*Ib + dV0*I0       # important to include third term\n",
    "\n",
    "    ## STEP 2\n",
    "    \n",
    "    # Compute c\n",
    "    c = dV_Upwind**(-1/s)\n",
    "    \n",
    "    ## STEP 3\n",
    "    \n",
    "    # Compute change in v\n",
    "    V_switch = np.fliplr(V)\n",
    "    Vchange = c**(1-s)/(1-s) + dV_Upwind*(zz + r*aa - c) + la*(V_switch - V) - rho*V\n",
    "\n",
    "    # update guess\n",
    "    Delta = .9*da/np.max(z2 + r*a)\n",
    "    v = v + Delta*Vchange\n",
    "\n",
    "    # compute distance\n",
    "    d = np.max(np.abs(Vchange))\n",
    "    \n",
    "    return v,c,d"
   ]
  },
  {
   "cell_type": "markdown",
   "metadata": {},
   "source": [
    "We can now iterate until we find the fixed point $v$"
   ]
  },
  {
   "cell_type": "code",
   "execution_count": 328,
   "metadata": {},
   "outputs": [
    {
     "name": "stdout",
     "output_type": "stream",
     "text": [
      "It = 5000; d = 1.14e-02\n",
      "It = 10000; d = 9.05e-04\n",
      "It = 15000; d = 9.70e-05\n",
      "It = 20000; d = 1.04e-05\n",
      "It = 25000; d = 1.12e-06\n",
      "Time: 13.1 seconds\n"
     ]
    },
    {
     "data": {
      "image/png": "[encoded data removed]",
      "text/plain": [
       "<Figure size 432x288 with 1 Axes>"
      ]
     },
     "metadata": {
      "needs_background": "light"
     },
     "output_type": "display_data"
    }
   ],
   "source": [
    "# initial guess\n",
    "v = (zz + r*aa)**(1-s)/(1-s)/rho\n",
    "\n",
    "t = time.time()\n",
    "iter,d = 0,1\n",
    "while (d > crit) & (iter < maxit): \n",
    "    \n",
    "    iter += 1\n",
    "    v,c,d = HJB_1step(v,r)\n",
    "    if (iter % 5000 == 0): print(f'It = {iter}; d = {d:.2e}')\n",
    "            \n",
    "elapsed = time.time() - t\n",
    "print(f'Time: {elapsed:.3} seconds')\n",
    "\n",
    "# plot\n",
    "plt.plot(a,c);"
   ]
  },
  {
   "cell_type": "markdown",
   "metadata": {},
   "source": [
    "### Implicit method"
   ]
  },
  {
   "cell_type": "markdown",
   "metadata": {},
   "source": [
    "The implicit method is similar except that $v$ is now updated using\n",
    "\n",
    "$$\n",
    "v_{ij}^{n+1} = v_{ij}^n + \\Delta \\left( u(c_{ij}^n) + (v_{ij}^{n+1})'(z_j + ra_i - c_{ij}^n) + \\lambda_j (v_{i-j}^{n+1} - v_{ij}^{n+1}) - \\rho v_{ij}^{n+1} \\right) \n",
    "$$\n",
    "\n",
    "Note that the HJB equation is just a fixed point for $v$, nothing tells you that you have to solve for it backward. In discrete time it makes sense intuitively and computationaly but here this is more open. In this case we mix things such that we can rearrange this equation in terms of some sort of transition matrix $A$. \n",
    "\n",
    "Given a guess for $v$, the algorithm works as follows. \n",
    "\n",
    "$\\textbf{Step 1}$\n",
    "\n",
    "Compute $v_{ij}'$ using \n",
    "$$\n",
    "v_{ijF}' \\equiv \\frac{v_{i+1j} - v_{ij}}{\\Delta a} \\quad \\text{and} \\quad v_{ijB}' \\equiv \\frac{v_{ij} - v_{i-1j}}{\\Delta a}\n",
    "$$\n",
    "and \n",
    "$$\n",
    "v_{ij}' = \\mathbb{1}\\{ s_{ijF} > 0\\} v_{ijF}' + \\mathbb{1}\\{ s_{ijB} < 0\\} v_{ijB}' + \\mathbb{1}\\{ s_{ijF} \\leq 0 \\leq s_{ijB}\\}u'(z_j + ra_i) \n",
    "$$\n",
    "\n",
    "$\\textbf{Step 2}$\n",
    "\n",
    "Compute C using \n",
    "$$\n",
    "c_{ij} = (u')^{-1}[v_{ij}']\n",
    "$$\n",
    "\n",
    "$\\textbf{Step 3}$\n",
    "\n",
    "Compute new $v$ by solving the system of linear equations\n",
    "$$\n",
    "\\textbf{B}^n v^{n+1} = b^n \\quad \\text{where} \\quad \\textbf{B}^n = \\left( \\frac{1}{\\Delta} + \\rho \\right) I - A^n, \\quad b^n = u^n + \\frac{1}{\\Delta} v^n\n",
    "$$\n",
    "\n",
    "where $A$ is like a transition matrix encoding the evolution of exogenous and endogenous variables $(a,y)$.\n"
   ]
  },
  {
   "cell_type": "code",
   "execution_count": 460,
   "metadata": {},
   "outputs": [],
   "source": [
    "# interest rate - will be pinned down in GE\n",
    "r = 0.035\n",
    "\n",
    "# Economic parameters\n",
    "s = 1.2                 # CRRA utility with parameter s\n",
    "rho = 0.05              # discount rate\n",
    "z1 = .1                 # income state 1   \n",
    "z2 = .2                 # income state 2\n",
    "z = [z1,z2]             # income sttes\n",
    "la1 = 1.5               # intensity lambda_1\n",
    "la2 = 1                 # intensity lambda_2\n",
    "la = [la1,la2];         # intensity of Poisson process\n",
    "Bonds = 0.1\n",
    "\n",
    "# Computational parameters\n",
    "I=1000                          # Size of asset grid\n",
    "amin = -0.02                    # borrowing constraint\n",
    "amax = 3                        # upper bound of grid\n",
    "a = np.linspace(amin,amax,I)    # grid\n",
    "da = (amax-amin)/(I-1)          # average distance on the grid\n",
    "aa = np.tile(a,(2,1)).T\n",
    "zz = np.ones((I,2))*z\n",
    "maxit= 100                      # max number of iterations\n",
    "crit = 1e-6                     # tolerance for fixed point\n",
    "Delta = 1000\n",
    "\n",
    "# Initialize arrays\n",
    "dVf = np.zeros((I,2))           # Forward derivative of value function\n",
    "dVb = np.zeros((I,2))           # Backward derivative of value function\n",
    "c = np.zeros((I,2))             # Consumption function\n",
    "highpart = np.concatenate((-np.eye(I)*la[0],np.eye(I)*la[0]),1)\n",
    "lowpart = np.concatenate((np.eye(I)*la[1],-np.eye(I)*la[1]),1)\n",
    "Aswitch = np.concatenate((highpart,lowpart),0)"
   ]
  },
  {
   "cell_type": "markdown",
   "metadata": {},
   "source": [
    "Then define one step of the iteration"
   ]
  },
  {
   "cell_type": "code",
   "execution_count": 461,
   "metadata": {},
   "outputs": [],
   "source": [
    "def HJB_1step_implicit(v,r):\n",
    "\n",
    "    # current guess\n",
    "    V = v.copy()\n",
    "\n",
    "    ## STEP 1\n",
    "\n",
    "    # forward difference\n",
    "    dVf[0:I-1,:] = (V[1:I,:]-V[0:I-1,:])/da\n",
    "    dVf[I-1,:] = 1                              # will never be used anyway\n",
    "\n",
    "    # backward difference\n",
    "    dVb[1:I,:] = (V[1:I,:]-V[0:I-1,:])/da\n",
    "    dVb[0,:] = (z + np.ones(2)*r*amin)**(-s)         # state constraint boundary condition\n",
    "\n",
    "    #indicator whether value function is concave (problems arise if this is not the case)\n",
    "    I_concave = dVb > dVf\n",
    "\n",
    "    # consumption and savings with forward difference\n",
    "    cf = dVf**(-1/s)\n",
    "    ssf = zz + r*aa - cf\n",
    "\n",
    "    # consumption and savings with backward difference\n",
    "    cb = dVb**(-1/s)\n",
    "    ssb = zz + r*aa - cb\n",
    "\n",
    "    # consumption and derivative of value function at steady state (no savings)\n",
    "    c0 = zz + r*aa;\n",
    "    dV0 = c0**(-s)\n",
    "\n",
    "    # dV_upwind makes a choice of forward or backward differences based on the sign of the drift    \n",
    "    If = ssf > 0                  # positive drift --> forward difference\n",
    "    Ib = ssb < 0                  # negative drift --> backward difference\n",
    "    I0 = (1-If-Ib)                # at steady state (no savings)\n",
    "\n",
    "    # make sure backward difference is used at amax\n",
    "    Ib[I-1,:] = 1 \n",
    "    If[I-1,:] = 0\n",
    "\n",
    "    # Compute dv\n",
    "    dV_Upwind = dVf*If + dVb*Ib + dV0*I0       # important to include third term\n",
    "\n",
    "    ## STEP 2\n",
    "\n",
    "    # Compute c\n",
    "    c = dV_Upwind**(-1/s)\n",
    "    u = c**(1-s)/(1-s)\n",
    "\n",
    "    ## STEP 3\n",
    "\n",
    "    # Construct matrix A and B\n",
    "    X = - np.minimum(ssb,np.zeros((I,2)))/da\n",
    "    Y = - np.maximum(ssf,np.zeros((I,2)))/da + np.minimum(ssb,np.zeros((I,2)))/da\n",
    "    Z = np.maximum(ssf,np.zeros((I,2)))/da\n",
    "    A1 = np.diag(Y[:,0],0) + np.diag(X[1:I,0],-1) + np.diag(Z[0:I-1,0],1)\n",
    "    A2 = np.diag(Y[:,1],0) + np.diag(X[1:I,1],-1) + np.diag(Z[0:I-1,1],1)\n",
    "    highpart = np.concatenate((A1,np.zeros((I,I))),1)\n",
    "    lowpart = np.concatenate((np.zeros((I,I)),A2),1)\n",
    "    A = np.concatenate((highpart,lowpart),0) + Aswitch\n",
    "    B = (rho + 1/Delta)*np.eye(2*I) - A\n",
    "    #B_sparse = scipy.sparse.dia_matrix(B)\n",
    "    \n",
    "    # Construct u and old V\n",
    "    u_stacked = np.concatenate((u[:,0],u[:,1]),0)\n",
    "    V_stacked = np.concatenate((V[:,0],V[:,1]),0) \n",
    "\n",
    "    # Solve system of equations\n",
    "    b = u_stacked + V_stacked/Delta\n",
    "    V_stacked = np.linalg.solve(B, b)\n",
    "    #V_stacked = scipy.sparse.linalg.spsolve(B_sparse,b)         # no really faster with sparse matrix - need to turn everything into sparse matrices to make it work\n",
    "    V[:,0] = V_stacked[0:I]\n",
    "    V[:,1] = V_stacked[I:2*I]\n",
    "    Vchange = V - v\n",
    "    v = V\n",
    "\n",
    "    # compute distance\n",
    "    d = np.max(np.abs(Vchange))\n",
    "\n",
    "    return v,c,d,A \n"
   ]
  },
  {
   "cell_type": "markdown",
   "metadata": {},
   "source": [
    "We now iterate until we find the fixed point"
   ]
  },
  {
   "cell_type": "code",
   "execution_count": 450,
   "metadata": {},
   "outputs": [
    {
     "name": "stdout",
     "output_type": "stream",
     "text": [
      "It = 2; d = 1.27e+00\n",
      "It = 4; d = 3.84e-01\n",
      "It = 6; d = 2.87e-03\n",
      "It = 8; d = 1.03e-06\n",
      "Time: 1.7 seconds\n"
     ]
    },
    {
     "data": {
      "image/png": "[encoded data removed]",
      "text/plain": [
       "<Figure size 432x288 with 1 Axes>"
      ]
     },
     "metadata": {
      "needs_background": "light"
     },
     "output_type": "display_data"
    }
   ],
   "source": [
    "# initial guess\n",
    "v = (zz + r*aa)**(1-s)/(1-s)/rho\n",
    "\n",
    "t = time.time()\n",
    "iter,d = 0,1\n",
    "while (d > crit) & (iter < maxit): \n",
    "    \n",
    "    iter += 1\n",
    "    v,c,d,A = HJB_1step_implicit(v,r)\n",
    "    if (iter % 2 == 0): print(f'It = {iter}; d = {d:.2e}')\n",
    "\n",
    "elapsed = time.time() - t\n",
    "print(f'Time: {elapsed:.2} seconds')\n",
    "\n",
    "# plot\n",
    "plt.plot(a,c);"
   ]
  },
  {
   "cell_type": "markdown",
   "metadata": {},
   "source": [
    "The implicit method is 10 times faster than the explicit method, even using regular matrices."
   ]
  },
  {
   "cell_type": "markdown",
   "metadata": {},
   "source": [
    "## KFE"
   ]
  },
  {
   "cell_type": "markdown",
   "metadata": {},
   "source": [
    "We now compute the stationary distribution by solving the system of equations\n",
    "\n",
    "$$\n",
    "0 = -[s_{ij}g_{ij}]' - \\lambda_jg_{ij} - \\lambda_{-j}g_{i-j}   \\\\\n",
    "1 = \\sum_{i=1}^I g_{i1} \\Delta a + \\sum_{i=1}^I g_{i2} \\Delta a\n",
    "$$\n",
    "\n",
    "It turns out that one way to approximate this system of equations is to solve\n",
    "\n",
    "$$\n",
    "A^T g = 0\n",
    "$$\n",
    "\n",
    "where $A$ is the tranpose of the transition matrix computed before. This is very much like discrete time. You should also be able to compute the stationary distribution as the eigenvector corresponding to the largest eigenvalue of $A^T$."
   ]
  },
  {
   "cell_type": "code",
   "execution_count": 462,
   "metadata": {},
   "outputs": [],
   "source": [
    "def Dist_ss(A):\n",
    "    \n",
    "    AT = A.T\n",
    "    b = np.zeros(2*I)\n",
    "\n",
    "    # need to fix one value, otherwise matrix is singular\n",
    "    b[0]=.1\n",
    "    row = np.expand_dims(np.concatenate(([1],np.zeros((2*I-1)))),0)\n",
    "    AT[0,:] = row\n",
    "\n",
    "    # Solve linear system of equations\n",
    "    gg = np.linalg.solve(AT, b)\n",
    "    g_sum = np.sum(gg)*da\n",
    "    gg = gg/g_sum\n",
    "    g = np.concatenate((np.expand_dims(gg[0:I],0).T,np.expand_dims(gg[I:2*I],0).T),1)\n",
    "\n",
    "    # mass for each income level\n",
    "    check1 = g[:,0].T@np.ones((I,1))*da\n",
    "    check2 = g[:,1].T@np.ones((I,1))*da\n",
    "    if np.abs(check1[0]+check2[0]-1)>crit: print('Issue with distribution')\n",
    "\n",
    "    return g\n",
    "    "
   ]
  },
  {
   "cell_type": "code",
   "execution_count": 433,
   "metadata": {},
   "outputs": [
    {
     "data": {
      "image/png": "[encoded data removed]",
      "text/plain": [
       "<Figure size 432x288 with 1 Axes>"
      ]
     },
     "metadata": {
      "needs_background": "light"
     },
     "output_type": "display_data"
    },
    {
     "data": {
      "image/png": "[encoded data removed]",
      "text/plain": [
       "<Figure size 432x288 with 1 Axes>"
      ]
     },
     "metadata": {
      "needs_background": "light"
     },
     "output_type": "display_data"
    }
   ],
   "source": [
    "# solve for g\n",
    "g = Dist_ss(A)\n",
    "\n",
    "# plot with savings\n",
    "adot = zz + r*aa - c\n",
    "plt.plot(a,adot)\n",
    "plt.plot(a,np.zeros((I,1)),'--',color='grey')\n",
    "\n",
    "# plot with distribution\n",
    "plt.figure()\n",
    "plt.plot(a,g[:,0])\n",
    "plt.plot(a,g[:,1])\n",
    "plt.plot(a,np.zeros((I,1)),'--',color='grey')\n",
    "plt.xlim([-0.05,1]);"
   ]
  },
  {
   "cell_type": "markdown",
   "metadata": {},
   "source": [
    "## Steady state"
   ]
  },
  {
   "cell_type": "markdown",
   "metadata": {},
   "source": [
    "We now solve for the interest rate $r$ such that the asset market clearing condition holds\n",
    "\n",
    "$$\n",
    "B = \\sum_i^I a_i g_{i1} \\Delta a + \\sum_i^I a_i g_{i2} \\Delta a\n",
    "$$\n",
    "\n",
    "We solve it by bijection."
   ]
  },
  {
   "cell_type": "code",
   "execution_count": 470,
   "metadata": {},
   "outputs": [
    {
     "name": "stdout",
     "output_type": "stream",
     "text": [
      "Excess Demand, new r = 0.0375\n",
      "Excess Demand, new r = 0.0388\n",
      "Excess Supply, new r = 0.0381\n",
      "Excess Supply, new r = 0.0378\n",
      "Excess Demand, new r = 0.038\n",
      "Excess Supply, new r = 0.0379\n",
      "Excess Supply, new r = 0.0379\n",
      "Excess Supply, new r = 0.0378\n",
      "Excess Demand, new r = 0.0378\n",
      "Excess Supply, new r = 0.0378\n",
      "Excess Supply, new r = 0.0378\n",
      "Excess Supply, new r = 0.0378\n",
      "Excess Supply, new r = 0.0378\n",
      "Equilibrium Found, Interest rate = 0.0378\n"
     ]
    }
   ],
   "source": [
    "rmin = 0.01\n",
    "rmax = 0.04\n",
    "Ir = 40;\n",
    "\n",
    "# initial guess\n",
    "v = (zz + r*aa)**(1-s)/(1-s)/rho\n",
    "\n",
    "for ir in range(Ir):\n",
    "\n",
    "    # solve for A\n",
    "    iter,d = 0,1\n",
    "    while (d > crit) & (iter < maxit): \n",
    "        iter += 1\n",
    "        v,c,d,A = HJB_1step_implicit(v,r)\n",
    "        if (iter % 100 == 0): print(f'It = {iter}; d = {d:.2e}')\n",
    "\n",
    "    # solve for g\n",
    "    g = Dist_ss(A)\n",
    "\n",
    "    # Excess supply of assets\n",
    "    S = g[:,0].T@a*da + g[:,1].T@a*da - Bonds\n",
    "\n",
    "    # Update interest rate\n",
    "    if S > crit:\n",
    "        rmax = r\n",
    "        r = 0.5*(r+rmin)\n",
    "        print(f'Excess Supply, new r = {r:.5}')\n",
    "    elif S < - crit:\n",
    "        rmin = r\n",
    "        r = 0.5*(r+rmax)\n",
    "        print(f'Excess Demand, new r = {r:.5}')\n",
    "    elif np.abs(S)<crit:\n",
    "        print(f'Equilibrium Found, Interest rate = {r:.5}')\n",
    "        break\n"
   ]
  },
  {
   "cell_type": "code",
   "execution_count": null,
   "metadata": {},
   "outputs": [],
   "source": []
  },
  {
   "cell_type": "code",
   "execution_count": null,
   "metadata": {},
   "outputs": [],
   "source": []
  }
 ],
 "metadata": {
  "@webio": {
   "lastCommId": null,
   "lastKernelId": null
  },
  "kernelspec": {
   "display_name": "Python 3",
   "language": "python",
   "name": "python3"
  },
  "language_info": {
   "codemirror_mode": {
    "name": "ipython",
    "version": 3
   },
   "file_extension": ".py",
   "mimetype": "text/x-python",
   "name": "python",
   "nbconvert_exporter": "python",
   "pygments_lexer": "ipython3",
   "version": "3.7.4"
  }
 },
 "nbformat": 4,
 "nbformat_minor": 2
}
