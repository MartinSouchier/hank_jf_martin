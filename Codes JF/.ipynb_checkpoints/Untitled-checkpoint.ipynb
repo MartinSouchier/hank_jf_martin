{
 "cells": [
  {
   "cell_type": "markdown",
   "metadata": {},
   "source": [
    "Import packages and set up the environment."
   ]
  },
  {
   "cell_type": "code",
   "execution_count": 25,
   "metadata": {},
   "outputs": [
    {
     "ename": "LoadError",
     "evalue": "invalid redefinition of constant Aiyagari",
     "output_type": "error",
     "traceback": [
      "invalid redefinition of constant Aiyagari",
      "",
      "Stacktrace:",
      " [1] top-level scope at C:\\Users\\jean-\\Desktop\\Aiyagari\\functions.jl:5",
      " [2] include at .\\boot.jl:328 [inlined]",
      " [3] include_relative(::Module, ::String) at .\\loading.jl:1105",
      " [4] include(::Module, ::String) at .\\Base.jl:31",
      " [5] include(::String) at .\\client.jl:424",
      " [6] top-level scope at In[25]:9"
     ]
    }
   ],
   "source": [
    "using Pkg, LinearAlgebra, Statistics, PyPlot, Random, Distributions, ApproxFun, Optim, SparseArrays\n",
    "\n",
    "# Set the plot fonts\n",
    "rc(\"text\", usetex = true)\n",
    "rc(\"font\", family = \"serif\", serif = \"palatino\")\n",
    "\n",
    "# Set the Stanford color palette\n",
    "stanford=[140 21 21; 0 0 0; 223 202 151; 178 176 167; 255 122 0]./256;\n",
    "\n",
    "# Import user-defined functions\n",
    "include(joinpath(pwd(),\"functions.jl\"));"
   ]
  },
  {
   "cell_type": "markdown",
   "metadata": {},
   "source": [
    "Define the HJB function."
   ]
  },
  {
   "cell_type": "code",
   "execution_count": null,
   "metadata": {},
   "outputs": [],
   "source": []
  }
 ],
 "metadata": {
  "kernelspec": {
   "display_name": "Julia 1.3.1",
   "language": "julia",
   "name": "julia-1.3"
  },
  "language_info": {
   "file_extension": ".jl",
   "mimetype": "application/julia",
   "name": "julia",
   "version": "1.3.1"
  }
 },
 "nbformat": 4,
 "nbformat_minor": 2
}
